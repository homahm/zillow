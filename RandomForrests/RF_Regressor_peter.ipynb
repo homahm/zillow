{
 "cells": [
  {
   "cell_type": "code",
   "execution_count": 1,
   "metadata": {
    "collapsed": true
   },
   "outputs": [],
   "source": [
    "# Fitting a random forest classifier to the data\n",
    "\n",
    "import numpy as np\n",
    "import pandas as pd\n",
    "import matplotlib.pyplot as pp\n",
    "import datetime as dt\n",
    "\n",
    "from sklearn import ensemble\n",
    "\n",
    "%matplotlib inline"
   ]
  },
  {
   "cell_type": "markdown",
   "metadata": {},
   "source": [
    "## Data import and cleaning"
   ]
  },
  {
   "cell_type": "code",
   "execution_count": 3,
   "metadata": {
    "collapsed": false
   },
   "outputs": [
    {
     "name": "stderr",
     "output_type": "stream",
     "text": [
      "//anaconda/lib/python3.5/site-packages/IPython/core/interactiveshell.py:2717: DtypeWarning: Columns (22,32,34,49,55) have mixed types. Specify dtype option on import or set low_memory=False.\n",
      "  interactivity=interactivity, compiler=compiler, result=result)\n"
     ]
    }
   ],
   "source": [
    "# Import the training data and merge with the properties data\n",
    "\n",
    "df_train = pd.read_csv('../data/train_2016_v2.csv')\n",
    "df_properties = pd.read_csv('../data/properties_2016.csv')\n",
    "df_train = df_train.merge(df_properties, on=['parcelid'])"
   ]
  },
  {
   "cell_type": "code",
   "execution_count": 4,
   "metadata": {
    "collapsed": true
   },
   "outputs": [],
   "source": [
    "# drop the columns with non-numeric data\n",
    "df_train = df_train.drop(df_train.loc[:,df_train.dtypes == 'object'], axis=1)"
   ]
  },
  {
   "cell_type": "code",
   "execution_count": 5,
   "metadata": {
    "collapsed": false
   },
   "outputs": [],
   "source": [
    "# remove nans by filling them with the most negative value possible\n",
    "df_train = df_train.fillna(df_train.min().min()-1)"
   ]
  },
  {
   "cell_type": "code",
   "execution_count": 6,
   "metadata": {
    "collapsed": false
   },
   "outputs": [
    {
     "data": {
      "text/plain": [
       "(90275, 54)"
      ]
     },
     "execution_count": 6,
     "metadata": {},
     "output_type": "execute_result"
    }
   ],
   "source": [
    "df_train.shape"
   ]
  },
  {
   "cell_type": "markdown",
   "metadata": {},
   "source": [
    "## Random Forest Regressor"
   ]
  },
  {
   "cell_type": "markdown",
   "metadata": {},
   "source": [
    "#### Function to create random samples of the data for  training and testing:"
   ]
  },
  {
   "cell_type": "code",
   "execution_count": 7,
   "metadata": {
    "collapsed": false
   },
   "outputs": [],
   "source": [
    "def create_random_train_test_samples(df, train_frac):\n",
    "    len_df = df.shape[0]\n",
    "    # perform a random permutation of the dataframe\n",
    "    a = df.sample(frac=1).reset_index()\n",
    "    # take first frac rows for test and rest for train \n",
    "    # return (X_train, X_test, y_train, y_test)\n",
    "    return (a.loc[:int(train_frac*len_df),:].drop(['logerror'], axis = 1).as_matrix(), \n",
    "            a.loc[int(train_frac*len_df):,:].drop(['logerror'], axis = 1).as_matrix(),\n",
    "            a.loc[:int(train_frac*len_df),'logerror'].as_matrix(),\n",
    "            a.loc[int(train_frac*len_df):,'logerror'].as_matrix())\n"
   ]
  },
  {
   "cell_type": "code",
   "execution_count": 8,
   "metadata": {
    "collapsed": true
   },
   "outputs": [],
   "source": [
    "X_train, X_test, y_train, y_test = create_random_train_test_samples(df_train, 0.8)"
   ]
  },
  {
   "cell_type": "markdown",
   "metadata": {},
   "source": [
    "### Random forest with the default parameters (except max_features)"
   ]
  },
  {
   "cell_type": "code",
   "execution_count": 9,
   "metadata": {
    "collapsed": true
   },
   "outputs": [],
   "source": [
    "RFR = ensemble.RandomForestRegressor(n_estimators=10,\n",
    "                                     criterion='mse',\n",
    "                                     max_features='sqrt',\n",
    "                                     max_depth=None,\n",
    "                                     min_samples_split=2)                                                            "
   ]
  },
  {
   "cell_type": "code",
   "execution_count": 10,
   "metadata": {
    "collapsed": false
   },
   "outputs": [
    {
     "data": {
      "text/plain": [
       "RandomForestRegressor(bootstrap=True, criterion='mse', max_depth=None,\n",
       "           max_features='sqrt', max_leaf_nodes=None, min_samples_leaf=1,\n",
       "           min_samples_split=2, min_weight_fraction_leaf=0.0,\n",
       "           n_estimators=10, n_jobs=1, oob_score=False, random_state=None,\n",
       "           verbose=0, warm_start=False)"
      ]
     },
     "execution_count": 10,
     "metadata": {},
     "output_type": "execute_result"
    }
   ],
   "source": [
    "# Fit the RF model using the training data:\n",
    "RFR.fit(X_train, y_train)"
   ]
  },
  {
   "cell_type": "code",
   "execution_count": 12,
   "metadata": {
    "collapsed": false
   },
   "outputs": [],
   "source": [
    "# Predict the values of y in the test set and compute the Mean Absolute Error\n",
    "y_pred = RFR.predict(X_test)"
   ]
  },
  {
   "cell_type": "code",
   "execution_count": 13,
   "metadata": {
    "collapsed": true
   },
   "outputs": [],
   "source": [
    "def MAE(y_pred, y_act):\n",
    "    return np.sum(np.abs(y_act - y_pred))/y_act.size"
   ]
  },
  {
   "cell_type": "code",
   "execution_count": 14,
   "metadata": {
    "collapsed": false
   },
   "outputs": [
    {
     "data": {
      "text/plain": [
       "0.079362190054199463"
      ]
     },
     "execution_count": 14,
     "metadata": {},
     "output_type": "execute_result"
    }
   ],
   "source": [
    "MAE(y_pred, y_test)"
   ]
  },
  {
   "cell_type": "markdown",
   "metadata": {},
   "source": [
    "### Tuning the RF model by increading # estimators and fitting model parameters using cross validation"
   ]
  },
  {
   "cell_type": "markdown",
   "metadata": {},
   "source": [
    "Here, looking at the effect of increasing the parameter min_samples_split"
   ]
  },
  {
   "cell_type": "code",
   "execution_count": 190,
   "metadata": {
    "collapsed": false
   },
   "outputs": [
    {
     "name": "stdout",
     "output_type": "stream",
     "text": [
      "MAE of 0.0762055304339 for min_samples_split=2\n",
      "MAE of 0.0742160303717 for min_samples_split=6\n",
      "MAE of 0.0733180305649 for min_samples_split=10\n",
      "MAE of 0.0728908807559 for min_samples_split=14\n",
      "MAE of 0.0722275760278 for min_samples_split=18\n",
      "MAE of 0.0716946035025 for min_samples_split=22\n",
      "MAE of 0.0717987088817 for min_samples_split=26\n",
      "MAE of 0.071417122531 for min_samples_split=30\n",
      "MAE of 0.0712103081503 for min_samples_split=34\n",
      "MAE of 0.0708480684225 for min_samples_split=38\n"
     ]
    }
   ],
   "source": [
    "for i in range(2,40,4):\n",
    "    RFR = ensemble.RandomForestRegressor(n_estimators=20,\n",
    "                                         criterion='mse',\n",
    "                                         max_features='sqrt',\n",
    "                                         max_depth=None,\n",
    "                                         min_samples_split=i)  \n",
    "    \n",
    "    RFR.fit(X_train, y_train)\n",
    "    y_pred = RFR.predict(X_test)\n",
    "    print('MAE of {:4} for min_samples_split={}'.format(MAE(y_pred, y_test), i))"
   ]
  },
  {
   "cell_type": "markdown",
   "metadata": {},
   "source": [
    "Below, so something similar but with greater range for min_samples_split and more estimators. Also, for each hyperparamter, do model fitting and evaluation n_trials = 5 times and get average MAE:"
   ]
  },
  {
   "cell_type": "code",
   "execution_count": 195,
   "metadata": {
    "collapsed": false
   },
   "outputs": [
    {
     "name": "stdout",
     "output_type": "stream",
     "text": [
      "MAE of 0.0732362886223 for min_samples_split=2\n",
      "MAE of 0.0712513126889 for min_samples_split=10\n",
      "MAE of 0.0701304929212 for min_samples_split=18\n",
      "MAE of 0.0698025453081 for min_samples_split=26\n",
      "MAE of 0.0691126743413 for min_samples_split=34\n",
      "MAE of 0.0693640551174 for min_samples_split=42\n",
      "MAE of 0.068903769104 for min_samples_split=50\n",
      "MAE of 0.0693977730426 for min_samples_split=58\n",
      "MAE of 0.0686006818747 for min_samples_split=66\n",
      "MAE of 0.0689458431241 for min_samples_split=74\n",
      "MAE of 0.0689833502499 for min_samples_split=82\n",
      "MAE of 0.0691498850663 for min_samples_split=90\n",
      "MAE of 0.0687408404196 for min_samples_split=98\n"
     ]
    }
   ],
   "source": [
    "n_trials = 5\n",
    "for i in range(2,100,8):\n",
    "    \n",
    "    mae = 0\n",
    "    for j in range(n_trials):\n",
    "        X_train, X_test, y_train, y_test = create_random_train_test_samples(df_train, 0.8)\n",
    "        RFR = ensemble.RandomForestRegressor(n_estimators=50,\n",
    "                                             criterion='mse',\n",
    "                                             max_features='sqrt',\n",
    "                                             max_depth=None,\n",
    "                                             min_samples_split=i)  \n",
    "    \n",
    "        RFR.fit(X_train, y_train)\n",
    "        y_pred = RFR.predict(X_test)\n",
    "        mae = mae + (MAE(y_pred, y_test)/float(n_trials))\n",
    "    \n",
    "    \n",
    "    print('MAE of {:4} for min_samples_split={}'.format(mae, i))"
   ]
  },
  {
   "cell_type": "code",
   "execution_count": null,
   "metadata": {
    "collapsed": true
   },
   "outputs": [],
   "source": [
    "pp.figure()\n",
    "pp.plot(range(2,100,8), [],'x')\n",
    "pp.xlabel('min_samples_split')\n",
    "pp.ylabel('MAE')\n",
    "pp.show()"
   ]
  },
  {
   "cell_type": "markdown",
   "metadata": {},
   "source": [
    "Based on above, pick min_samples_split = 20 and fit model with a lot of estimators:"
   ]
  },
  {
   "cell_type": "code",
   "execution_count": 15,
   "metadata": {
    "collapsed": false
   },
   "outputs": [
    {
     "data": {
      "text/plain": [
       "0.068784122686759305"
      ]
     },
     "execution_count": 15,
     "metadata": {},
     "output_type": "execute_result"
    }
   ],
   "source": [
    "X_train, X_test, y_train, y_test = create_random_train_test_samples(df_train, 0.8)\n",
    "RFR = ensemble.RandomForestRegressor(n_estimators=500,\n",
    "                                    criterion='mse',\n",
    "                                    max_features='sqrt',\n",
    "                                    max_depth=None,\n",
    "                                    min_samples_split=20)  \n",
    "    \n",
    "RFR.fit(X_train, y_train)\n",
    "y_pred = RFR.predict(X_test)\n",
    "MAE(y_pred, y_test)\n",
    "    "
   ]
  },
  {
   "cell_type": "markdown",
   "metadata": {},
   "source": [
    "Get the feature importance of each feature:"
   ]
  },
  {
   "cell_type": "code",
   "execution_count": 17,
   "metadata": {
    "collapsed": false
   },
   "outputs": [
    {
     "data": {
      "text/plain": [
       "Index(['parcelid', 'logerror', 'calculatedfinishedsquarefeet', 'latitude',\n",
       "       'longitude', 'lotsizesquarefeet', 'structuretaxvaluedollarcnt',\n",
       "       'taxvaluedollarcnt', 'landtaxvaluedollarcnt', 'taxamount'],\n",
       "      dtype='object')"
      ]
     },
     "execution_count": 17,
     "metadata": {},
     "output_type": "execute_result"
    }
   ],
   "source": [
    "df_train.columns[RFR.feature_importances_ > 0.05]"
   ]
  }
 ],
 "metadata": {
  "anaconda-cloud": {},
  "kernelspec": {
   "display_name": "Python [conda root]",
   "language": "python",
   "name": "conda-root-py"
  },
  "language_info": {
   "codemirror_mode": {
    "name": "ipython",
    "version": 3
   },
   "file_extension": ".py",
   "mimetype": "text/x-python",
   "name": "python",
   "nbconvert_exporter": "python",
   "pygments_lexer": "ipython3",
   "version": "3.5.3"
  }
 },
 "nbformat": 4,
 "nbformat_minor": 2
}
